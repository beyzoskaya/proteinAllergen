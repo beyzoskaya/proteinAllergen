version https://git-lfs.github.com/spec/v1
oid sha256:0f956a6d3b8073912edbd92d399641e686c4d80972dc49cda4ff75b337b9b645
size 335041
