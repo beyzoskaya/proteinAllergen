version https://git-lfs.github.com/spec/v1
oid sha256:5b00c9d220198fad7ce070341ebd487c2a8d4b1dfbbeb780c65e573379bca14c
size 167268572
